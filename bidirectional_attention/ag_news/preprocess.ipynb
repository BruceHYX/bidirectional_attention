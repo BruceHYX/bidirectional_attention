{
 "cells": [
  {
   "cell_type": "markdown",
   "id": "14277b2b-fc1c-4d5d-b65f-f2035ec42337",
   "metadata": {},
   "source": [
    "### preprocess"
   ]
  },
  {
   "cell_type": "code",
   "execution_count": 1,
   "id": "3f85f948-da5a-4b33-9eb6-7c7f6dbeb1da",
   "metadata": {},
   "outputs": [],
   "source": [
    "import pandas as pd\n",
    "\n",
    "df = {}\n",
    "keys = ['data/train', 'data/test']\n",
    "for k in keys :\n",
    "    df[k] = pd.read_csv('' + k + '.csv', header=None)\n",
    "    df[k] = df[k][df[k][0].isin([1, 3])]"
   ]
  },
  {
   "cell_type": "code",
   "execution_count": 2,
   "id": "913c6426-29c9-492f-84e0-04eb6d8fddef",
   "metadata": {},
   "outputs": [],
   "source": [
    "from vectorizer import cleaner\n",
    "for k in keys :\n",
    "    texts = list(df[k][2])\n",
    "    for i in range(len(texts)):\n",
    "        texts[i] = cleaner(texts[i])\n",
    "    df[k]['text'] = texts"
   ]
  },
  {
   "cell_type": "code",
   "execution_count": 3,
   "id": "ab87323c-dea3-4a36-92e8-c940b4d5cd81",
   "metadata": {},
   "outputs": [],
   "source": [
    "for k in keys :\n",
    "    df[k][0] = [1 if (x == 3) else 0 for x in list(df[k][0])]"
   ]
  },
  {
   "cell_type": "code",
   "execution_count": 5,
   "id": "7eb7744f-4bbf-4397-ba15-fd62cc4fdb6e",
   "metadata": {},
   "outputs": [],
   "source": [
    "import pandas as pd\n",
    "df_texts = []\n",
    "df_labels = []\n",
    "df_exp_splits = []\n",
    "\n",
    "for key in ['data/train', 'data/test'] :\n",
    "    df_texts += list(df[key]['text'])\n",
    "    df_labels += list(df[key][0])\n",
    "    df_exp_splits += [key] * len(list(df[key]['text']))\n",
    "    \n",
    "df = pd.DataFrame({'text' : df_texts, 'label' : df_labels, 'exp_split' : df_exp_splits})\n",
    "#df.to_csv('agnews_dataset.csv', index=False)"
   ]
  },
  {
   "cell_type": "code",
   "execution_count": 6,
   "id": "7554b44f-f599-4e18-a8d0-08cfdb598a2f",
   "metadata": {},
   "outputs": [
    {
     "data": {
      "text/html": [
       "<div>\n",
       "<style scoped>\n",
       "    .dataframe tbody tr th:only-of-type {\n",
       "        vertical-align: middle;\n",
       "    }\n",
       "\n",
       "    .dataframe tbody tr th {\n",
       "        vertical-align: top;\n",
       "    }\n",
       "\n",
       "    .dataframe thead th {\n",
       "        text-align: right;\n",
       "    }\n",
       "</style>\n",
       "<table border=\"1\" class=\"dataframe\">\n",
       "  <thead>\n",
       "    <tr style=\"text-align: right;\">\n",
       "      <th></th>\n",
       "      <th>text</th>\n",
       "      <th>label</th>\n",
       "      <th>exp_split</th>\n",
       "    </tr>\n",
       "  </thead>\n",
       "  <tbody>\n",
       "    <tr>\n",
       "      <th>0</th>\n",
       "      <td>reuters - short - sellers , wall street 's dwi...</td>\n",
       "      <td>1</td>\n",
       "      <td>data/train</td>\n",
       "    </tr>\n",
       "    <tr>\n",
       "      <th>1</th>\n",
       "      <td>reuters - private investment firm carlyle grou...</td>\n",
       "      <td>1</td>\n",
       "      <td>data/train</td>\n",
       "    </tr>\n",
       "    <tr>\n",
       "      <th>2</th>\n",
       "      <td>reuters - soaring crude prices plus worries\\ab...</td>\n",
       "      <td>1</td>\n",
       "      <td>data/train</td>\n",
       "    </tr>\n",
       "    <tr>\n",
       "      <th>3</th>\n",
       "      <td>reuters - authorities have halted oil export\\f...</td>\n",
       "      <td>1</td>\n",
       "      <td>data/train</td>\n",
       "    </tr>\n",
       "    <tr>\n",
       "      <th>4</th>\n",
       "      <td>afp - tearaway world oil prices , toppling rec...</td>\n",
       "      <td>1</td>\n",
       "      <td>data/train</td>\n",
       "    </tr>\n",
       "  </tbody>\n",
       "</table>\n",
       "</div>"
      ],
      "text/plain": [
       "                                                text  label   exp_split\n",
       "0  reuters - short - sellers , wall street 's dwi...      1  data/train\n",
       "1  reuters - private investment firm carlyle grou...      1  data/train\n",
       "2  reuters - soaring crude prices plus worries\\ab...      1  data/train\n",
       "3  reuters - authorities have halted oil export\\f...      1  data/train\n",
       "4  afp - tearaway world oil prices , toppling rec...      1  data/train"
      ]
     },
     "execution_count": 6,
     "metadata": {},
     "output_type": "execute_result"
    }
   ],
   "source": [
    "df.head()"
   ]
  },
  {
   "cell_type": "code",
   "execution_count": 8,
   "id": "c626f22e-b9c5-4fdc-982e-2323d78df418",
   "metadata": {},
   "outputs": [
    {
     "data": {
      "text/html": [
       "<div>\n",
       "<style scoped>\n",
       "    .dataframe tbody tr th:only-of-type {\n",
       "        vertical-align: middle;\n",
       "    }\n",
       "\n",
       "    .dataframe tbody tr th {\n",
       "        vertical-align: top;\n",
       "    }\n",
       "\n",
       "    .dataframe thead th {\n",
       "        text-align: right;\n",
       "    }\n",
       "</style>\n",
       "<table border=\"1\" class=\"dataframe\">\n",
       "  <thead>\n",
       "    <tr style=\"text-align: right;\">\n",
       "      <th></th>\n",
       "      <th>text</th>\n",
       "      <th>label</th>\n",
       "      <th>exp_split</th>\n",
       "    </tr>\n",
       "  </thead>\n",
       "  <tbody>\n",
       "    <tr>\n",
       "      <th>0</th>\n",
       "      <td>reuters - short - sellers , wall street 's dwi...</td>\n",
       "      <td>1</td>\n",
       "      <td>data/train</td>\n",
       "    </tr>\n",
       "    <tr>\n",
       "      <th>1</th>\n",
       "      <td>reuters - private investment firm carlyle grou...</td>\n",
       "      <td>1</td>\n",
       "      <td>data/train</td>\n",
       "    </tr>\n",
       "    <tr>\n",
       "      <th>2</th>\n",
       "      <td>reuters - soaring crude prices plus worries\\ab...</td>\n",
       "      <td>1</td>\n",
       "      <td>data/train</td>\n",
       "    </tr>\n",
       "    <tr>\n",
       "      <th>3</th>\n",
       "      <td>reuters - authorities have halted oil export\\f...</td>\n",
       "      <td>1</td>\n",
       "      <td>data/train</td>\n",
       "    </tr>\n",
       "    <tr>\n",
       "      <th>4</th>\n",
       "      <td>afp - tearaway world oil prices , toppling rec...</td>\n",
       "      <td>1</td>\n",
       "      <td>data/train</td>\n",
       "    </tr>\n",
       "  </tbody>\n",
       "</table>\n",
       "</div>"
      ],
      "text/plain": [
       "                                                text  label   exp_split\n",
       "0  reuters - short - sellers , wall street 's dwi...      1  data/train\n",
       "1  reuters - private investment firm carlyle grou...      1  data/train\n",
       "2  reuters - soaring crude prices plus worries\\ab...      1  data/train\n",
       "3  reuters - authorities have halted oil export\\f...      1  data/train\n",
       "4  afp - tearaway world oil prices , toppling rec...      1  data/train"
      ]
     },
     "execution_count": 8,
     "metadata": {},
     "output_type": "execute_result"
    }
   ],
   "source": [
    "train = df[df['exp_split']=='data/train']\n",
    "train.head()"
   ]
  },
  {
   "cell_type": "code",
   "execution_count": 10,
   "id": "a6bf7889-23a0-430a-bab8-52490aef9616",
   "metadata": {},
   "outputs": [
    {
     "data": {
      "text/html": [
       "<div>\n",
       "<style scoped>\n",
       "    .dataframe tbody tr th:only-of-type {\n",
       "        vertical-align: middle;\n",
       "    }\n",
       "\n",
       "    .dataframe tbody tr th {\n",
       "        vertical-align: top;\n",
       "    }\n",
       "\n",
       "    .dataframe thead th {\n",
       "        text-align: right;\n",
       "    }\n",
       "</style>\n",
       "<table border=\"1\" class=\"dataframe\">\n",
       "  <thead>\n",
       "    <tr style=\"text-align: right;\">\n",
       "      <th></th>\n",
       "      <th>text</th>\n",
       "      <th>label</th>\n",
       "      <th>exp_split</th>\n",
       "    </tr>\n",
       "  </thead>\n",
       "  <tbody>\n",
       "    <tr>\n",
       "      <th>60000</th>\n",
       "      <td>unions representing workers at turner newall s...</td>\n",
       "      <td>1</td>\n",
       "      <td>data/test</td>\n",
       "    </tr>\n",
       "    <tr>\n",
       "      <th>60001</th>\n",
       "      <td>canadian press - vancouver ( cp ) - the sister...</td>\n",
       "      <td>0</td>\n",
       "      <td>data/test</td>\n",
       "    </tr>\n",
       "    <tr>\n",
       "      <th>60002</th>\n",
       "      <td>ap - the man who claims gov. james e. mcgreeve...</td>\n",
       "      <td>0</td>\n",
       "      <td>data/test</td>\n",
       "    </tr>\n",
       "    <tr>\n",
       "      <th>60003</th>\n",
       "      <td>najaf , iraq - explosions and gunfire rattled ...</td>\n",
       "      <td>0</td>\n",
       "      <td>data/test</td>\n",
       "    </tr>\n",
       "    <tr>\n",
       "      <th>60004</th>\n",
       "      <td>lourdes , france - a frail pope john paul ii ,...</td>\n",
       "      <td>0</td>\n",
       "      <td>data/test</td>\n",
       "    </tr>\n",
       "  </tbody>\n",
       "</table>\n",
       "</div>"
      ],
      "text/plain": [
       "                                                    text  label  exp_split\n",
       "60000  unions representing workers at turner newall s...      1  data/test\n",
       "60001  canadian press - vancouver ( cp ) - the sister...      0  data/test\n",
       "60002  ap - the man who claims gov. james e. mcgreeve...      0  data/test\n",
       "60003  najaf , iraq - explosions and gunfire rattled ...      0  data/test\n",
       "60004  lourdes , france - a frail pope john paul ii ,...      0  data/test"
      ]
     },
     "execution_count": 10,
     "metadata": {},
     "output_type": "execute_result"
    }
   ],
   "source": [
    "test = df[df['exp_split']=='data/test']\n",
    "test.head()"
   ]
  },
  {
   "cell_type": "code",
   "execution_count": 18,
   "id": "3e157beb-cf89-400e-8886-c9844db469a1",
   "metadata": {},
   "outputs": [],
   "source": [
    "train.drop(['exp_split'],axis=1).to_csv('Train.csv',index=False)"
   ]
  },
  {
   "cell_type": "code",
   "execution_count": 19,
   "id": "aa8366d8-3f59-4ceb-a747-fcd5ed147b91",
   "metadata": {},
   "outputs": [],
   "source": [
    "test.drop(['exp_split'],axis=1).to_csv('Test.csv',index=False)"
   ]
  },
  {
   "cell_type": "code",
   "execution_count": 20,
   "id": "d289ceb0-5b8b-470c-b25f-767c3e4c50cc",
   "metadata": {},
   "outputs": [
    {
     "data": {
      "text/plain": [
       "(60000, 3800)"
      ]
     },
     "execution_count": 20,
     "metadata": {},
     "output_type": "execute_result"
    }
   ],
   "source": [
    "len(train),len(test)"
   ]
  }
 ],
 "metadata": {
  "kernelspec": {
   "display_name": "Python 3",
   "language": "python",
   "name": "python3"
  },
  "language_info": {
   "codemirror_mode": {
    "name": "ipython",
    "version": 3
   },
   "file_extension": ".py",
   "mimetype": "text/x-python",
   "name": "python",
   "nbconvert_exporter": "python",
   "pygments_lexer": "ipython3",
   "version": "3.6.13"
  }
 },
 "nbformat": 4,
 "nbformat_minor": 5
}
