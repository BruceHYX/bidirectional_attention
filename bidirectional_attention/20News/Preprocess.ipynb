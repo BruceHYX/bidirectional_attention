{
 "cells": [
  {
   "cell_type": "markdown",
   "id": "73947d48-89fb-43b1-b689-f6aafa348ddc",
   "metadata": {},
   "source": [
    "### Preprocess"
   ]
  },
  {
   "cell_type": "code",
   "execution_count": 1,
   "id": "a312a494-f2bb-4dd7-b7c4-7248f156e76c",
   "metadata": {},
   "outputs": [],
   "source": [
    "import pandas as pd\n",
    "df = pd.read_csv('20News.csv')"
   ]
  },
  {
   "cell_type": "code",
   "execution_count": 2,
   "id": "a73096b5-34e0-424b-ab02-43a5445dacac",
   "metadata": {},
   "outputs": [
    {
     "name": "stdout",
     "output_type": "stream",
     "text": [
      "1993 1993\n"
     ]
    }
   ],
   "source": [
    "strings = df['strings'].to_list()\n",
    "target = df['target'].to_list()\n",
    "print(len(strings),len(target))"
   ]
  },
  {
   "cell_type": "code",
   "execution_count": 8,
   "id": "e52f6171-bf35-42bf-a28a-a2a1b31b83ce",
   "metadata": {},
   "outputs": [],
   "source": [
    "from vectorizer import cleaner\n",
    "import re\n",
    "\n",
    "def cleaner_20(text) :\n",
    "    if type(text) == str:\n",
    "        text = cleaner(text)\n",
    "        text = re.sub(r'(\\W)+', r' \\1 ', text)\n",
    "        text = re.sub(r'\\s+', ' ', text)\n",
    "        return text.strip()\n",
    "\n",
    "strings = [cleaner_20(s) for s in strings]\n",
    "strings, target = zip(*[(s, t) for s, t in zip(strings, target) if (type(s)==str and len(s) != 0)])"
   ]
  },
  {
   "cell_type": "code",
   "execution_count": 9,
   "id": "ecebe298-7bd5-4eaa-89c6-331b775fca81",
   "metadata": {},
   "outputs": [
    {
     "data": {
      "text/plain": [
       "(1933, 1933)"
      ]
     },
     "execution_count": 9,
     "metadata": {},
     "output_type": "execute_result"
    }
   ],
   "source": [
    "len(strings),len(target)"
   ]
  },
  {
   "cell_type": "code",
   "execution_count": 12,
   "id": "8f63cd64-af2d-4882-b323-5807d8c8b024",
   "metadata": {},
   "outputs": [],
   "source": [
    "from sklearn.model_selection import train_test_split\n",
    "train_idx, test_idx = train_test_split(range(len(strings)), stratify=target, test_size=0.3, random_state=1221)"
   ]
  },
  {
   "cell_type": "code",
   "execution_count": 13,
   "id": "774e6e1e-ffa2-4c8a-a6e1-ad1b0849b026",
   "metadata": {},
   "outputs": [],
   "source": [
    "X_train = [strings[i] for i in train_idx]\n",
    "X_test = [strings[i] for i in test_idx]\n",
    "\n",
    "y_train = [target[i] for i in train_idx]\n",
    "y_test = [target[i] for i in test_idx]\n",
    "\n",
    "texts = { 'train' : X_train, 'test' : X_test}\n",
    "labels = { 'train' : y_train, 'test' : y_test}"
   ]
  },
  {
   "cell_type": "code",
   "execution_count": 17,
   "id": "c5502813-1855-4dbd-bde6-9c165cc43deb",
   "metadata": {},
   "outputs": [
    {
     "data": {
      "text/plain": [
       "(['actually keith hernandez is the best sean',\n",
       "  'as a guess hamilton would be put into the midwest with either winnipeg or dallas moving to the pacific .',\n",
       "  'here we go again is this the same idiot who posted the gretzky trade to toronto sheeeesh you should have waited until we got over that one before this garbage maybe we would have believed it for half a second not by the way i just heard from mother goose that mario lemieux was traded to winnpeg for tie domi !'],\n",
       " [0, 1, 1],\n",
       " ['i basically agree the tigers are my favorite team actually their pitching might actually be better this year than last not that htat s saying a hole lot how bout that home opener on tuesday by the way sparky goes for win qqq today .',\n",
       "  'i have lived in the boston area for qqq years now they have been talking about a new boston garden hockey basketball since i ve lived here one day the last hurdle has been overcome and the next day there s a new hurdle fans have been grumbling about foxboro stadium or whatever it s called this year for nearly as long but there are only preliminary proposals for a new stadium local politics prevents anything from being done in a timely fashion there will not be a new ballpark in my lifetime .',\n",
       "  'first happy birthday val second espn s affinity with patrick has probably more to do with the travel production costs for a once a week nhn national hockey night affair espn abc owner capital cities is a company known for being quite thrifty with minimal overhead costs it s quite possible that jim schoenfeld may be working for doughnuts gary thorne and bill clement are both nj based and the rest of espn crew resides in the suburban ct with a very close proximity to tri state area plus it makes sense in terms of solid hockey following in the northeast corridor pa ny nj dc maryland whereas in the adams you have only qqq based teams out of which qqq and hartford are not in qqq us tv markets .'],\n",
       " [0, 0, 1])"
      ]
     },
     "execution_count": 17,
     "metadata": {},
     "output_type": "execute_result"
    }
   ],
   "source": [
    "X_train[:3],y_train[:3],X_test[:3],y_test[:3]"
   ]
  },
  {
   "cell_type": "code",
   "execution_count": 19,
   "id": "ed4eae84-35dc-4356-985c-57a8fa7978d8",
   "metadata": {},
   "outputs": [
    {
     "data": {
      "text/plain": [
       "(None, None)"
      ]
     },
     "execution_count": 19,
     "metadata": {},
     "output_type": "execute_result"
    }
   ],
   "source": [
    "Train = pd.DataFrame({'text':X_train,'label':y_train})\n",
    "Test = pd.DataFrame({'text':X_test,'label':y_test})\n",
    "Train.to_csv('data/Train.csv',index=False),Test.to_csv('data/Test.csv',index=False)"
   ]
  },
  {
   "cell_type": "code",
   "execution_count": null,
   "id": "62888ee7-5121-48d3-9fbd-04eaa6d0453c",
   "metadata": {},
   "outputs": [],
   "source": []
  }
 ],
 "metadata": {
  "kernelspec": {
   "display_name": "Python 3",
   "language": "python",
   "name": "python3"
  },
  "language_info": {
   "codemirror_mode": {
    "name": "ipython",
    "version": 3
   },
   "file_extension": ".py",
   "mimetype": "text/x-python",
   "name": "python",
   "nbconvert_exporter": "python",
   "pygments_lexer": "ipython3",
   "version": "3.6.13"
  }
 },
 "nbformat": 4,
 "nbformat_minor": 5
}
