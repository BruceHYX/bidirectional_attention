{
 "cells": [
  {
   "cell_type": "markdown",
   "id": "9e726c93-12ea-42be-afa2-732059e5de93",
   "metadata": {},
   "source": [
    "### download 20News dataset"
   ]
  },
  {
   "cell_type": "code",
   "execution_count": 1,
   "id": "bd7bdea3-9d7b-4a3a-b993-825755b6410a",
   "metadata": {},
   "outputs": [
    {
     "name": "stdout",
     "output_type": "stream",
     "text": [
      "[(0, 'alt.atheism'), (1, 'comp.graphics'), (2, 'comp.os.ms-windows.misc'), (3, 'comp.sys.ibm.pc.hardware'), (4, 'comp.sys.mac.hardware'), (5, 'comp.windows.x'), (6, 'misc.forsale'), (7, 'rec.autos'), (8, 'rec.motorcycles'), (9, 'rec.sport.baseball'), (10, 'rec.sport.hockey'), (11, 'sci.crypt'), (12, 'sci.electronics'), (13, 'sci.med'), (14, 'sci.space'), (15, 'soc.religion.christian'), (16, 'talk.politics.guns'), (17, 'talk.politics.mideast'), (18, 'talk.politics.misc'), (19, 'talk.religion.misc')]\n"
     ]
    }
   ],
   "source": [
    "from sklearn.datasets import fetch_20newsgroups\n",
    "data20 = fetch_20newsgroups(subset='all', shuffle=True, remove=('headers', 'footers', 'quotes'))\n",
    "print(list(enumerate(data20.target_names)))"
   ]
  },
  {
   "cell_type": "code",
   "execution_count": 3,
   "id": "4b7231a8-d130-4b21-8a87-d713829bdcc6",
   "metadata": {},
   "outputs": [
    {
     "data": {
      "text/plain": [
       "sklearn.utils.Bunch"
      ]
     },
     "execution_count": 3,
     "metadata": {},
     "output_type": "execute_result"
    }
   ],
   "source": [
    "type(data20)"
   ]
  },
  {
   "cell_type": "code",
   "execution_count": 4,
   "id": "a01c017f-a2d1-4ecc-bde6-3263374e31b7",
   "metadata": {},
   "outputs": [],
   "source": [
    "import numpy as np\n",
    "baseball = np.where(data20.target == 9)[0]\n",
    "hockey = np.where(data20.target == 10)[0]"
   ]
  },
  {
   "cell_type": "code",
   "execution_count": 5,
   "id": "c772e929-e48d-4c48-811e-4e47d5ad5406",
   "metadata": {},
   "outputs": [],
   "source": [
    "strings = [data20.data[i] for i in list(baseball) + list(hockey)]\n",
    "target = [0 if data20.target[i] == 9 else 1 for i in list(baseball) + list(hockey)]"
   ]
  },
  {
   "cell_type": "code",
   "execution_count": 9,
   "id": "d55fb7a9-cc03-4644-ac23-c0bb998f2535",
   "metadata": {},
   "outputs": [
    {
     "data": {
      "text/plain": [
       "(1993, 1993)"
      ]
     },
     "execution_count": 9,
     "metadata": {},
     "output_type": "execute_result"
    }
   ],
   "source": [
    "len(strings),len(target)"
   ]
  },
  {
   "cell_type": "code",
   "execution_count": 11,
   "id": "9579a18c-4bca-4942-8265-6384f8198fe0",
   "metadata": {},
   "outputs": [],
   "source": [
    "import pandas as pd\n",
    "df = pd.DataFrame({'strings':strings,\n",
    "                  'target':target})"
   ]
  },
  {
   "cell_type": "code",
   "execution_count": 12,
   "id": "3c3a8eb1-ffec-46dc-94e7-0fc7eb446b7c",
   "metadata": {},
   "outputs": [
    {
     "data": {
      "text/html": [
       "<div>\n",
       "<style scoped>\n",
       "    .dataframe tbody tr th:only-of-type {\n",
       "        vertical-align: middle;\n",
       "    }\n",
       "\n",
       "    .dataframe tbody tr th {\n",
       "        vertical-align: top;\n",
       "    }\n",
       "\n",
       "    .dataframe thead th {\n",
       "        text-align: right;\n",
       "    }\n",
       "</style>\n",
       "<table border=\"1\" class=\"dataframe\">\n",
       "  <thead>\n",
       "    <tr style=\"text-align: right;\">\n",
       "      <th></th>\n",
       "      <th>strings</th>\n",
       "      <th>target</th>\n",
       "    </tr>\n",
       "  </thead>\n",
       "  <tbody>\n",
       "    <tr>\n",
       "      <th>0</th>\n",
       "      <td>\\nBe patient. He has a sore shoulder from cras...</td>\n",
       "      <td>0</td>\n",
       "    </tr>\n",
       "    <tr>\n",
       "      <th>1</th>\n",
       "      <td>\\n\\n\\nI don't buy this at all.  I think things...</td>\n",
       "      <td>0</td>\n",
       "    </tr>\n",
       "    <tr>\n",
       "      <th>2</th>\n",
       "      <td>\\nYes, Ivan Rodriguez, last year.  Batted .260...</td>\n",
       "      <td>0</td>\n",
       "    </tr>\n",
       "    <tr>\n",
       "      <th>3</th>\n",
       "      <td>\\n\\n\\nSandberg is not particulary known for hi...</td>\n",
       "      <td>0</td>\n",
       "    </tr>\n",
       "    <tr>\n",
       "      <th>4</th>\n",
       "      <td>\\nWetteland is on the DL effective March 26 or...</td>\n",
       "      <td>0</td>\n",
       "    </tr>\n",
       "  </tbody>\n",
       "</table>\n",
       "</div>"
      ],
      "text/plain": [
       "                                             strings  target\n",
       "0  \\nBe patient. He has a sore shoulder from cras...       0\n",
       "1  \\n\\n\\nI don't buy this at all.  I think things...       0\n",
       "2  \\nYes, Ivan Rodriguez, last year.  Batted .260...       0\n",
       "3  \\n\\n\\nSandberg is not particulary known for hi...       0\n",
       "4  \\nWetteland is on the DL effective March 26 or...       0"
      ]
     },
     "execution_count": 12,
     "metadata": {},
     "output_type": "execute_result"
    }
   ],
   "source": [
    "df.head()"
   ]
  },
  {
   "cell_type": "code",
   "execution_count": 13,
   "id": "bae18066-bcc1-45fa-845f-e76d40df6d44",
   "metadata": {},
   "outputs": [],
   "source": [
    "df.to_csv('20News.csv')"
   ]
  }
 ],
 "metadata": {
  "kernelspec": {
   "display_name": "Python 3",
   "language": "python",
   "name": "python3"
  },
  "language_info": {
   "codemirror_mode": {
    "name": "ipython",
    "version": 3
   },
   "file_extension": ".py",
   "mimetype": "text/x-python",
   "name": "python",
   "nbconvert_exporter": "python",
   "pygments_lexer": "ipython3",
   "version": "3.6.13"
  }
 },
 "nbformat": 4,
 "nbformat_minor": 5
}
