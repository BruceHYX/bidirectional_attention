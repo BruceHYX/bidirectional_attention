{
 "cells": [
  {
   "cell_type": "markdown",
   "id": "8642d449-faf0-4f0c-b748-661a5f1a4399",
   "metadata": {},
   "source": [
    "### test"
   ]
  },
  {
   "cell_type": "code",
   "execution_count": 1,
   "id": "5b7bc45b-c26c-4fd8-ab58-192d88a25ad2",
   "metadata": {},
   "outputs": [],
   "source": [
    "import pandas as pd\n",
    "import torch\n",
    "from random import *\n",
    "import numpy as np\n",
    "import math\n",
    "import torch.utils.data as Data\n",
    "import torch.nn as nn\n",
    "import torch.optim as optim\n",
    "import re\n",
    "from tqdm import tqdm\n",
    "import pickle\n",
    "\n",
    "use_gpu = torch.cuda.is_available()"
   ]
  },
  {
   "cell_type": "code",
   "execution_count": 2,
   "id": "4225e2b6-e91d-47f2-ac1d-ece742e09be5",
   "metadata": {},
   "outputs": [],
   "source": [
    "batch_size = 100\n",
    "token_size = 1000\n",
    "MAX_DOC_LEN = 50\n",
    "epoch_num = 100\n",
    "\n",
    "# 模型参数\n",
    "maxlen = MAX_DOC_LEN + 1 # 输入文本的最大词长度，与padding相关\n",
    "max_pred = MAX_DOC_LEN + 1 # 最大预测词长度，需要padding和mask"
   ]
  },
  {
   "cell_type": "code",
   "execution_count": 3,
   "id": "25c06a6d-9e38-45e8-9362-7f1e01ac583b",
   "metadata": {},
   "outputs": [
    {
     "name": "stdout",
     "output_type": "stream",
     "text": [
      "length of vocabulary:  16174\n"
     ]
    }
   ],
   "source": [
    "path = 'data/local_dict.pkl'\n",
    "dict_file = open(path, 'rb')\n",
    "vocab  = pickle.load(dict_file)[0]\n",
    "print('length of vocabulary: ',len(vocab))\n",
    "dict_file.close()\n",
    "                    \n",
    "word2idx = {'[PAD]' : 0, '[CLS]' : 1, '[MASK]' : 2}\n",
    "for i, w in enumerate(vocab[:token_size]):\n",
    "    word2idx[w] = i + 3\n",
    "idx2word = {i: w for i, w in enumerate(word2idx)}\n",
    "\n",
    "vocab_size=len(idx2word)\n",
    "word_list = word2idx.keys()"
   ]
  },
  {
   "cell_type": "code",
   "execution_count": 4,
   "id": "2027642b-fea8-4b8e-97a2-00c6363ecf0e",
   "metadata": {},
   "outputs": [],
   "source": [
    "from MultiAttn import *\n",
    "\n",
    "train = pd.read_csv('data/Train.csv')\n",
    "N = len(train)\n",
    "X_train = train['text'].to_list()[:N]\n",
    "y_train = train['label'].to_list()[:N]\n",
    "\n",
    "doc_list = list()\n",
    "for doc in X_train:\n",
    "    temp = re.sub('[!?.,<>()\"\"/]','',doc.lower())\n",
    "    arr = [word2idx[s] if s in word_list else word2idx['[PAD]'] for s in temp.split(' ')[:MAX_DOC_LEN]]\n",
    "    doc_list.append(arr)\n",
    "\n",
    "batch = make_data(doc_list,y_train,N,word2idx,max_pred,maxlen,vocab_size)\n",
    "input_ids, masked_tokens, masked_pos, label, ids = zip(*batch)\n",
    "input_ids, masked_tokens, masked_pos, label = \\\n",
    "    torch.LongTensor(input_ids),  torch.LongTensor(masked_tokens),\\\n",
    "    torch.LongTensor(masked_pos), torch.LongTensor(label)\n",
    "\n",
    "loader = Data.DataLoader(MyDataSet(input_ids,masked_tokens, masked_pos, label), batch_size, True)"
   ]
  },
  {
   "cell_type": "markdown",
   "id": "ad45218e-3cb4-4ae2-b24f-96da33cd7e8b",
   "metadata": {},
   "source": [
    "## TanhMax"
   ]
  },
  {
   "cell_type": "code",
   "execution_count": 6,
   "id": "6c1958a5-ac51-435e-a29c-fe2f8f7dab76",
   "metadata": {},
   "outputs": [
    {
     "name": "stderr",
     "output_type": "stream",
     "text": [
      "100%|██████████| 100/100 [03:34<00:00,  2.14s/it]\n"
     ]
    }
   ],
   "source": [
    "Tanhmax_model = Model(vocab_size,maxlen,act_type='TanhMax')\n",
    "criterion = nn.CrossEntropyLoss()\n",
    "optimizer = optim.Adadelta(Tanhmax_model.parameters(), lr=0.001)\n",
    "\n",
    "if(use_gpu):\n",
    "    Tanhmax_model = Tanhmax_model.cuda()\n",
    "    criterion = criterion.cuda()\n",
    "Tanhmax_model.train_model(100,criterion,optimizer,loader)"
   ]
  },
  {
   "cell_type": "code",
   "execution_count": 7,
   "id": "b871b39b-0131-4fe8-84d4-139e352063ea",
   "metadata": {},
   "outputs": [
    {
     "data": {
      "image/png": "[encoded data removed]",
      "text/plain": [
       "<Figure size 432x432 with 1 Axes>"
      ]
     },
     "metadata": {
      "needs_background": "light"
     },
     "output_type": "display_data"
    },
    {
     "name": "stdout",
     "output_type": "stream",
     "text": [
      "predict accuracy:61.600%\n"
     ]
    }
   ],
   "source": [
    "Tanhmax_model.test_accuracy(batch,y_train)"
   ]
  },
  {
   "cell_type": "markdown",
   "id": "d2fafc0d-177c-4ec9-a617-b22e0398a4d6",
   "metadata": {},
   "source": [
    "### test dataset"
   ]
  },
  {
   "cell_type": "code",
   "execution_count": 8,
   "id": "f828f1fc-0371-4cbe-91f4-53741d141cf8",
   "metadata": {},
   "outputs": [
    {
     "data": {
      "image/png": "[encoded data removed]",
      "text/plain": [
       "<Figure size 432x432 with 1 Axes>"
      ]
     },
     "metadata": {
      "needs_background": "light"
     },
     "output_type": "display_data"
    },
    {
     "name": "stdout",
     "output_type": "stream",
     "text": [
      "predict accuracy:50.333%\n"
     ]
    }
   ],
   "source": [
    "test = pd.read_csv('data/Test.csv')\n",
    "X_test = train['text'].to_list()\n",
    "y_test = train['label'].to_list()\n",
    "\n",
    "test_doc_list = list()\n",
    "for doc in X_test:\n",
    "    temp = re.sub('[!?.,<>()\"\"/]','',doc.lower())\n",
    "    arr = [word2idx[s] if s in word_list else word2idx['[PAD]'] for s in temp.split(' ')[:MAX_DOC_LEN]]\n",
    "    test_doc_list.append(arr)\n",
    "\n",
    "test_batch = make_data(test_doc_list,y_test,N,word2idx,max_pred,maxlen,vocab_size)\n",
    "Tanhmax_model.test_accuracy(test_batch,y_test)"
   ]
  },
  {
   "cell_type": "markdown",
   "id": "51150fd0-1e34-4a99-b511-eba82cb5ed7e",
   "metadata": {},
   "source": [
    "## Softmax"
   ]
  },
  {
   "cell_type": "code",
   "execution_count": 9,
   "id": "74ea75d5-40a7-41c3-9466-1cfe68182f01",
   "metadata": {},
   "outputs": [
    {
     "name": "stderr",
     "output_type": "stream",
     "text": [
      "100%|██████████| 100/100 [03:44<00:00,  2.25s/it]\n"
     ]
    },
    {
     "data": {
      "image/png": "[encoded data removed]",
      "text/plain": [
       "<Figure size 432x432 with 1 Axes>"
      ]
     },
     "metadata": {
      "needs_background": "light"
     },
     "output_type": "display_data"
    },
    {
     "name": "stdout",
     "output_type": "stream",
     "text": [
      "predict accuracy:61.633%\n"
     ]
    }
   ],
   "source": [
    "Softmax_model = Model(vocab_size,maxlen,act_type='TanhMax')\n",
    "criterion = nn.CrossEntropyLoss()\n",
    "optimizer = optim.Adadelta(Softmax_model.parameters(), lr=0.001)\n",
    "\n",
    "if(use_gpu):\n",
    "    Softmax_model = Softmax_model.cuda()\n",
    "    criterion = criterion.cuda()\n",
    "    \n",
    "Softmax_model.train_model(100,criterion,optimizer,loader)\n",
    "\n",
    "Softmax_model.test_accuracy(batch,y_train)"
   ]
  },
  {
   "cell_type": "markdown",
   "id": "4959ccda-0969-4dc0-b78a-4262598704bf",
   "metadata": {},
   "source": [
    "### test dataset"
   ]
  },
  {
   "cell_type": "code",
   "execution_count": 10,
   "id": "89e33e3c-b1cd-4130-bd7c-d9bcf1260c80",
   "metadata": {},
   "outputs": [
    {
     "data": {
      "image/png": "[encoded data removed]",
      "text/plain": [
       "<Figure size 432x432 with 1 Axes>"
      ]
     },
     "metadata": {
      "needs_background": "light"
     },
     "output_type": "display_data"
    },
    {
     "name": "stdout",
     "output_type": "stream",
     "text": [
      "predict accuracy:50.333%\n"
     ]
    }
   ],
   "source": [
    "Softmax_model.test_accuracy(test_batch,y_test)"
   ]
  },
  {
   "cell_type": "code",
   "execution_count": null,
   "id": "5eab1c9b-87fd-4977-abaa-52dd1f23277a",
   "metadata": {},
   "outputs": [],
   "source": []
  }
 ],
 "metadata": {
  "kernelspec": {
   "display_name": "torch",
   "language": "python",
   "name": "torch"
  },
  "language_info": {
   "codemirror_mode": {
    "name": "ipython",
    "version": 3
   },
   "file_extension": ".py",
   "mimetype": "text/x-python",
   "name": "python",
   "nbconvert_exporter": "python",
   "pygments_lexer": "ipython3",
   "version": "3.7.4"
  }
 },
 "nbformat": 4,
 "nbformat_minor": 5
}
